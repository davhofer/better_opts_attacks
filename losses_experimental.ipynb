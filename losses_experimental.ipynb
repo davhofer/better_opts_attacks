{
 "cells": [
  {
   "cell_type": "code",
   "execution_count": 2,
   "metadata": {},
   "outputs": [],
   "source": [
    "import torch\n",
    "import transformers\n",
    "import json\n",
    "import typing\n",
    "import pickle as pkl\n",
    "import gc\n",
    "\n",
    "import attack_utility\n",
    "import experiment_logger\n",
    "import random"
   ]
  },
  {
   "cell_type": "code",
   "execution_count": 3,
   "metadata": {},
   "outputs": [],
   "source": [
    "MODEL_PATH = \"/data/models/hf/Llama-3.2-1B-Instruct\"\n",
    "model = transformers.AutoModelForCausalLM.from_pretrained(MODEL_PATH, device_map=\"auto\", torch_dtype=torch.float16)\n",
    "tokenizer = transformers.AutoTokenizer.from_pretrained(MODEL_PATH)\n",
    "model.generation_config.pad_token_id = tokenizer.pad_token_id\n"
   ]
  },
  {
   "cell_type": "code",
   "execution_count": 32,
   "metadata": {},
   "outputs": [],
   "source": [
    "model_comp = model.model\n",
    "lm_head = model.lm_head\n",
    "\n",
    "embedding = model_comp.embed_tokens\n",
    "layers = model_comp.layers\n",
    "\n",
    "embed_matrix = embedding.weight.data"
   ]
  },
  {
   "cell_type": "code",
   "execution_count": 33,
   "metadata": {},
   "outputs": [],
   "source": [
    "NUM_SAMPLES = 1000\n",
    "NUM_PAIRS = 1000\n",
    "\n",
    "context_tokens = random.sample(list(range(len(tokenizer))), NUM_SAMPLES)\n",
    "control_tokens = [(random.randint(0, len(tokenizer)), random.randint(0, len(tokenizer))) for _ in range(NUM_PAIRS)]"
   ]
  },
  {
   "cell_type": "code",
   "execution_count": 34,
   "metadata": {},
   "outputs": [
    {
     "data": {
      "text/plain": [
       "torch.Size([128256, 2048])"
      ]
     },
     "execution_count": 34,
     "metadata": {},
     "output_type": "execute_result"
    }
   ],
   "source": [
    "embed_matrix.shape"
   ]
  },
  {
   "cell_type": "code",
   "execution_count": null,
   "metadata": {},
   "outputs": [],
   "source": [
    "def get_distances(index_to_flip: int, weight_matrix: torch.tensor):\n",
    "    context_perm = torch.randperm(embed_matrix.shape[0])\n",
    "    p_row = embed_matrix[context_perm[index_to_flip]]\n",
    "    p_plus_k_rows = embed_matrix[context_perm[index_to_flip + 1:]]\n",
    "    for x1_token, x2_token in control_tokens:\n",
    "        x1_tensor = embed_matrix.clone()\n",
    "        x1_tensor[index_to_flip] = "
   ]
  },
  {
   "cell_type": "code",
   "execution_count": 28,
   "metadata": {},
   "outputs": [],
   "source": [
    "t = torch.tensor([1, 2, 3])"
   ]
  },
  {
   "cell_type": "code",
   "execution_count": 30,
   "metadata": {},
   "outputs": [
    {
     "data": {
      "text/plain": [
       "tensor([3, 2])"
      ]
     },
     "execution_count": 30,
     "metadata": {},
     "output_type": "execute_result"
    }
   ],
   "source": [
    "t[[2, 1]]"
   ]
  },
  {
   "cell_type": "code",
   "execution_count": null,
   "metadata": {},
   "outputs": [],
   "source": []
  }
 ],
 "metadata": {
  "kernelspec": {
   "display_name": "opt",
   "language": "python",
   "name": "python3"
  },
  "language_info": {
   "codemirror_mode": {
    "name": "ipython",
    "version": 3
   },
   "file_extension": ".py",
   "mimetype": "text/x-python",
   "name": "python",
   "nbconvert_exporter": "python",
   "pygments_lexer": "ipython3",
   "version": "3.12.7"
  }
 },
 "nbformat": 4,
 "nbformat_minor": 2
}
