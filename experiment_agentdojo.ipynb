{
 "cells": [
  {
   "cell_type": "code",
   "execution_count": 1,
   "id": "b24853cf",
   "metadata": {},
   "outputs": [
    {
     "name": "stderr",
     "output_type": "stream",
     "text": [
      "/workspace/miniconda3/envs/agentdojo/lib/python3.11/site-packages/tqdm/auto.py:21: TqdmWarning: IProgress not found. Please update jupyter and ipywidgets. See https://ipywidgets.readthedocs.io/en/stable/user_install.html\n",
      "  from .autonotebook import tqdm as notebook_tqdm\n",
      "Matplotlib is building the font cache; this may take a moment.\n"
     ]
    }
   ],
   "source": [
    "import torch\n",
    "import transformers\n",
    "import sys\n",
    "import os\n",
    "import matplotlib.pyplot as plt\n",
    "import json\n",
    "import seaborn as sns\n",
    "import collections\n",
    "\n",
    "sys.path.append(\"../..\")\n",
    "\n",
    "from utils import experiment_logger\n",
    "from secalign_refactored import secalign, config"
   ]
  },
  {
   "cell_type": "code",
   "execution_count": 2,
   "id": "8173d8dd",
   "metadata": {},
   "outputs": [
    {
     "name": "stderr",
     "output_type": "stream",
     "text": [
      "Loading checkpoint shards: 100%|██████████| 4/4 [01:54<00:00, 28.64s/it]\n"
     ]
    }
   ],
   "source": [
    "MODEL_PATH = \"secalign_refactored/secalign_models/Meta-SecAlign-8B\"\n",
    "DEFENSE = \"meta_secalign\"\n",
    "\n",
    "model, tokenizer, _, _ = secalign.maybe_load_secalign_defended_model(MODEL_PATH, defence=\"\")"
   ]
  },
  {
   "cell_type": "code",
   "execution_count": null,
   "id": "eff3403f",
   "metadata": {},
   "outputs": [],
   "source": []
  }
 ],
 "metadata": {
  "kernelspec": {
   "display_name": "agentdojo",
   "language": "python",
   "name": "python3"
  },
  "language_info": {
   "codemirror_mode": {
    "name": "ipython",
    "version": 3
   },
   "file_extension": ".py",
   "mimetype": "text/x-python",
   "name": "python",
   "nbconvert_exporter": "python",
   "pygments_lexer": "ipython3",
   "version": "3.11.13"
  }
 },
 "nbformat": 4,
 "nbformat_minor": 5
}
