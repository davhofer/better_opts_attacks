{
 "cells": [
  {
   "cell_type": "code",
   "execution_count": null,
   "id": "bfe383e1",
   "metadata": {},
   "outputs": [],
   "source": [
    "import torch\n",
    "import transformers\n",
    "import sys\n",
    "import os\n",
    "import matplotlib.pyplot as plt\n",
    "\n",
    "sys.path.append(\"../..\")\n",
    "\n",
    "from utils import experiment_logger\n",
    "from secalign_refactored import secalign, config"
   ]
  },
  {
   "cell_type": "code",
   "execution_count": null,
   "id": "24899661",
   "metadata": {},
   "outputs": [],
   "source": [
    "model_rel_path = \"<MODEL_PATH_HERE>\"\n",
    "\n",
    "os.environ[\"CUDA_VISIBLE_DEVICES\"] = str(0)\n",
    "\n",
    "load_model = False\n",
    "if load_model:\n",
    "    model, tokenizer, frontend_delimiters, _ = secalign.load_lora_model(model_rel_path, load_model=load_model, device_map=\"cuda:0\")\n",
    "\n",
    "    inst_delm = config.DELIMITERS[frontend_delimiters][0]\n",
    "    data_delm = config.DELIMITERS[frontend_delimiters][1]\n",
    "    resp_delm = config.DELIMITERS[frontend_delimiters][2]\n",
    "\n",
    "    prompt_template = config.PROMPT_FORMAT[frontend_delimiters]\n",
    "    model = model.eval()\n",
    "    model.generation_config.pad_token_id = tokenizer.pad_token_id\n",
    "    model.generation_config.temperature = 0.0\n",
    "    model.generation_config.do_sample=False\n",
    "else:\n",
    "    model, tokenizer, frontend_delimiters, _ = None, None, None, None"
   ]
  },
  {
   "cell_type": "code",
   "execution_count": null,
   "id": "a84b9bf1",
   "metadata": {},
   "outputs": [],
   "source": [
    "logger = experiment_logger.ExperimentLogger(\".\")\n",
    "\n",
    "final_average_losses = []\n",
    "for training_set_size, average_logprobs_list in enumerate(logger.query({\"variable_name\": \"average_logprobs_list\", \"function_name\": \"altogether_adversarial_opt\"})):\n",
    "    final_average_losses += average_logprobs_list"
   ]
  },
  {
   "cell_type": "code",
   "execution_count": null,
   "id": "37c1f0c0",
   "metadata": {},
   "outputs": [],
   "source": [
    "plt.figure()\n",
    "plt.plot(final_average_losses)\n",
    "plt.ylim((0, 40))\n",
    "plt.show()\n",
    "plt.close()"
   ]
  },
  {
   "cell_type": "code",
   "execution_count": null,
   "id": "b8bc34d0",
   "metadata": {},
   "outputs": [],
   "source": [
    "minimum_logprobs_idx = torch.argmin(torch.tensor(final_average_losses))\n",
    "minimum_logprobs_batch = minimum_logprobs_idx // 501\n",
    "idx_in_batch = minimum_logprobs_idx % 501\n",
    "best_gcg_tokens_dict = next(logger.query({\"variable_name\": \"gcg_tokens_sequences\"}))[minimum_logprobs_batch][idx_in_batch]\n",
    "\n",
    "common_payload_string = next(logger.query({\"variable_name\": \"\"}))"
   ]
  }
 ],
 "metadata": {
  "kernelspec": {
   "display_name": "opt",
   "language": "python",
   "name": "python3"
  },
  "language_info": {
   "codemirror_mode": {
    "name": "ipython",
    "version": 3
   },
   "file_extension": ".py",
   "mimetype": "text/x-python",
   "name": "python",
   "nbconvert_exporter": "python",
   "pygments_lexer": "ipython3",
   "version": "3.12.7"
  }
 },
 "nbformat": 4,
 "nbformat_minor": 5
}
